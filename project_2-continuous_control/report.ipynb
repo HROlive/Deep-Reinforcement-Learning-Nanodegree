{
 "cells": [
  {
   "cell_type": "markdown",
   "metadata": {},
   "source": [
    "# Continuous Control\n",
    "\n",
    "---\n",
    "\n",
    "\n",
    "## 1. Start the Environment\n",
    "\n",
    "Run the next code cell to install a few packages.  This line will take a few minutes to run!"
   ]
  },
  {
   "cell_type": "code",
   "execution_count": 1,
   "metadata": {},
   "outputs": [
    {
     "name": "stdout",
     "output_type": "stream",
     "text": [
      "\u001b[31mtensorflow 1.7.1 has requirement numpy>=1.13.3, but you'll have numpy 1.12.1 which is incompatible.\u001b[0m\r\n",
      "\u001b[31mipython 6.5.0 has requirement prompt-toolkit<2.0.0,>=1.0.15, but you'll have prompt-toolkit 2.0.10 which is incompatible.\u001b[0m\r\n"
     ]
    }
   ],
   "source": [
    "!pip -q install ./python"
   ]
  },
  {
   "cell_type": "markdown",
   "metadata": {},
   "source": [
    "The environments corresponding to both versions of the environment can be accessed at the file paths provided below.  \n",
    "\n",
    "Please select one of the two options below for loading the environment."
   ]
  },
  {
   "cell_type": "code",
   "execution_count": 2,
   "metadata": {},
   "outputs": [
    {
     "name": "stderr",
     "output_type": "stream",
     "text": [
      "INFO:unityagents:\n",
      "'Academy' started successfully!\n",
      "Unity Academy name: Academy\n",
      "        Number of Brains: 1\n",
      "        Number of External Brains : 1\n",
      "        Lesson number : 0\n",
      "        Reset Parameters :\n",
      "\t\tgoal_size -> 5.0\n",
      "\t\tgoal_speed -> 1.0\n",
      "Unity brain name: ReacherBrain\n",
      "        Number of Visual Observations (per agent): 0\n",
      "        Vector Observation space type: continuous\n",
      "        Vector Observation space size (per agent): 33\n",
      "        Number of stacked Vector Observation: 1\n",
      "        Vector Action space type: continuous\n",
      "        Vector Action space size (per agent): 4\n",
      "        Vector Action descriptions: , , , \n"
     ]
    }
   ],
   "source": [
    "from unityagents import UnityEnvironment\n",
    "import numpy as np\n",
    "\n",
    "# select this option to load version 1 (with a single agent) of the environment\n",
    "# env = UnityEnvironment(file_name='/data/Reacher_One_Linux_NoVis/Reacher_One_Linux_NoVis.x86_64')\n",
    "\n",
    "# select this option to load version 2 (with 20 agents) of the environment\n",
    "env = UnityEnvironment(file_name='/data/Reacher_Linux_NoVis/Reacher.x86_64')"
   ]
  },
  {
   "cell_type": "markdown",
   "metadata": {},
   "source": [
    "Environments contain **_brains_** which are responsible for deciding the actions of their associated agents. Here we check for the first brain available, and set it as the default brain we will be controlling from Python."
   ]
  },
  {
   "cell_type": "code",
   "execution_count": 3,
   "metadata": {},
   "outputs": [],
   "source": [
    "# get the default brain\n",
    "brain_name = env.brain_names[0]\n",
    "brain = env.brains[brain_name]"
   ]
  },
  {
   "cell_type": "markdown",
   "metadata": {},
   "source": [
    "## 2. Examine the State and Action Spaces\n",
    "\n",
    "Run the code cell below to print some information about the environment."
   ]
  },
  {
   "cell_type": "code",
   "execution_count": 4,
   "metadata": {},
   "outputs": [
    {
     "name": "stdout",
     "output_type": "stream",
     "text": [
      "Number of agents: 20\n",
      "Size of each action: 4\n",
      "There are 20 agents. Each observes a state with length: 33\n",
      "The state for the first agent looks like: [  0.00000000e+00  -4.00000000e+00   0.00000000e+00   1.00000000e+00\n",
      "  -0.00000000e+00  -0.00000000e+00  -4.37113883e-08   0.00000000e+00\n",
      "   0.00000000e+00   0.00000000e+00   0.00000000e+00   0.00000000e+00\n",
      "   0.00000000e+00   0.00000000e+00  -1.00000000e+01   0.00000000e+00\n",
      "   1.00000000e+00  -0.00000000e+00  -0.00000000e+00  -4.37113883e-08\n",
      "   0.00000000e+00   0.00000000e+00   0.00000000e+00   0.00000000e+00\n",
      "   0.00000000e+00   0.00000000e+00   5.75471878e+00  -1.00000000e+00\n",
      "   5.55726624e+00   0.00000000e+00   1.00000000e+00   0.00000000e+00\n",
      "  -1.68164849e-01]\n"
     ]
    }
   ],
   "source": [
    "# reset the environment\n",
    "env_info = env.reset(train_mode=True)[brain_name]\n",
    "\n",
    "# number of agents\n",
    "num_agents = len(env_info.agents)\n",
    "print('Number of agents:', num_agents)\n",
    "\n",
    "# size of each action\n",
    "action_size = brain.vector_action_space_size\n",
    "print('Size of each action:', action_size)\n",
    "\n",
    "# examine the state space \n",
    "states = env_info.vector_observations\n",
    "state_size = states.shape[1]\n",
    "print('There are {} agents. Each observes a state with length: {}'.format(states.shape[0], state_size))\n",
    "print('The state for the first agent looks like:', states[0])"
   ]
  },
  {
   "cell_type": "markdown",
   "metadata": {},
   "source": [
    "![Reacher](https://github.com/Unity-Technologies/ml-agents/blob/master/docs/images/reacher.png?raw=true)\n",
    "\n",
    "* Set-up: Double-jointed arm which can move to target locations.\n",
    "* Goal: The agents must move its hand to the goal location, and keep it there.\n",
    "* Agents: The environment contains 20 agents linked to a single brain.\n",
    "* Agent Reward Function (independent):\n",
    "  * +0.1 Each step agent's hand is in goal location.\n",
    "* Brains: One Brain with the following observation/action space.\n",
    "  * Vector Observation space: 33 variables corresponding to position, rotation,\n",
    "    velocity, and angular velocities of the two arm Rigidbodies.\n",
    "  * Vector Action space: (Continuous) Size of 4, corresponding to torque\n",
    "    applicable to two joints. Every entry in the action vector should be a \n",
    "    number between -1 and 1.\n",
    "  * Visual Observations: None.\n",
    "* Reset Parameters: Five\n",
    "  * goal_size: radius of the goal zone\n",
    "    * Default: 5\n",
    "    * Recommended Minimum: 1\n",
    "    * Recommended Maximum: 10\n",
    "  * goal_speed: speed of the goal zone around the arm (in radians)\n",
    "    * Default: 1\n",
    "    * Recommended Minimum: 0.2\n",
    "    * Recommended Maximum: 4\n",
    "  * gravity\n",
    "    * Default: 9.81\n",
    "    * Recommended Minimum: 4\n",
    "    * Recommended Maximum: 20\n",
    "  * deviation: Magnitude of sinusoidal (cosine) deviation of the goal along the vertical dimension\n",
    "    * Default: 0\n",
    "    * Recommended Minimum: 0\n",
    "    * Recommended Maximum: 5\n",
    "  * deviation_freq: Frequency of the cosine deviation of the goal along the vertical dimension\n",
    "    * Default: 0\n",
    "    * Recommended Minimum: 0\n",
    "    * Recommended Maximum: 3\n",
    "* Benchmark Mean Reward: 30"
   ]
  },
  {
   "cell_type": "markdown",
   "metadata": {},
   "source": [
    "## 3. Take Random Actions in the Environment\n",
    "\n",
    "In the next code cell, you will learn how to use the Python API to control the agent and receive feedback from the environment.\n",
    "\n",
    "**Note:** you should set `train_mode=True` to restart the environment."
   ]
  },
  {
   "cell_type": "code",
   "execution_count": 5,
   "metadata": {},
   "outputs": [
    {
     "name": "stdout",
     "output_type": "stream",
     "text": [
      "Total score (averaged over agents) this episode: 0.13649999694898723\n"
     ]
    }
   ],
   "source": [
    "env_info = env.reset(train_mode=True)[brain_name]      # reset the environment    \n",
    "states = env_info.vector_observations                  # get the current state (for each agent)\n",
    "scores = np.zeros(num_agents)                          # initialize the score (for each agent)\n",
    "while True:\n",
    "    actions = np.random.randn(num_agents, action_size) # select an action (for each agent)\n",
    "    actions = np.clip(actions, -1, 1)                  # all actions between -1 and 1\n",
    "    env_info = env.step(actions)[brain_name]           # send all actions to the environment\n",
    "    next_states = env_info.vector_observations         # get next state (for each agent)\n",
    "    rewards = env_info.rewards                         # get reward (for each agent)\n",
    "    dones = env_info.local_done                        # see if episode finished\n",
    "    scores += env_info.rewards                         # update the score (for each agent)\n",
    "    states = next_states                               # roll over states to next time step\n",
    "    if np.any(dones):                                  # exit loop if episode finished\n",
    "        break\n",
    "print('Total score (averaged over agents) this episode: {}'.format(np.mean(scores)))"
   ]
  },
  {
   "cell_type": "markdown",
   "metadata": {},
   "source": [
    "## 4. Train the agents\n",
    "\n",
    "The DDPG can be trained by calling the ddpg function defined bellow. Both agent and model classes are invoked from their respective helper files.\n",
    "\n",
    "**Note:**\n",
    "When training the environment, set `train_mode=True`, so that the line for resetting the environment looks like the following:\n",
    "```python\n",
    "env_info = env.reset(train_mode=True)[brain_name]\n",
    "```"
   ]
  },
  {
   "cell_type": "code",
   "execution_count": 6,
   "metadata": {},
   "outputs": [],
   "source": [
    "from ddpg_agent import Agent\n",
    "import random\n",
    "import torch\n",
    "from collections import deque\n",
    "import matplotlib.pyplot as plt\n",
    "\n",
    "%matplotlib inline\n",
    "%load_ext autoreload\n",
    "%autoreload 2"
   ]
  },
  {
   "cell_type": "code",
   "execution_count": 7,
   "metadata": {},
   "outputs": [],
   "source": [
    "# initialize the agent\n",
    "agent = Agent(state_size=state_size, action_size=action_size, random_seed=0)"
   ]
  },
  {
   "cell_type": "markdown",
   "metadata": {},
   "source": [
    "#### Hyperparameters\n",
    "\n",
    "The following hyperparameters were used to train the agents:\n",
    "    - BUFFER_SIZE = int(1e6)       replay buffer size\n",
    "    - BATCH_SIZE = 128             minibatch size\n",
    "    - GAMMA = 0.99                 discount factor\n",
    "    - TAU = 1e-3                   for soft update of target parameters\n",
    "    - LR_ACTOR = 1e-4              learning rate of the actor \n",
    "    - LR_CRITIC = 3e-4             learning rate of the critic\n",
    "    - WEIGHT_DECAY = 0             L2 weight decay\n",
    "    - UPDATE_EVERY = 20            how often to update the network\n",
    "    - UPDATE_NUM = 15              number of update passes\n",
    "    - EPSILON = 1.0                starting value of epsilon\n",
    "    - EPSILON_DECAY = 1e-6         factor for decreasing epsilon"
   ]
  },
  {
   "cell_type": "markdown",
   "metadata": {},
   "source": [
    "### Deep Deterministic Policy Gradient (DDPG)\n",
    "\n",
    "Deep Deterministic Policy Gradient (DDPG) is an algorithm which concurrently learns a Q-function and a policy. It uses off-policy data and the Bellman equation to learn the Q-function, and uses the Q-function to learn the policy.\n",
    "\n",
    "This approach is closely connected to Q-learning, and is motivated the same way: if you know the optimal action-value function Q* (s,a), then in any given state, the optimal action a* (s) can be found by solving\n",
    "\n",
    "![Optimal Action](https://spinningup.openai.com/en/latest/_images/math/ba36101c11fe8d42a8eb6367560792b6dc11a312.svg)\n",
    "\n",
    "DDPG interleaves learning an approximator to Q* (s,a) with learning an approximator to a* (s), and it does so in a way which is specifically adapted for environments with continuous action spaces. But what does it mean that DDPG is adapted specifically for environments with continuous action spaces? It relates to how we compute the max over actions in max_a Q* (s,a).\n",
    "\n",
    "When there are a finite number of discrete actions, the max poses no problem, because we can just compute the Q-values for each action separately and directly compare them. (This also immediately gives us the action which maximizes the Q-value.) But when the action space is continuous, we can’t exhaustively evaluate the space, and solving the optimization problem is highly non-trivial. Using a normal optimization algorithm would make calculating max_a Q* (s,a) a painfully expensive subroutine. And since it would need to be run every time the agent wants to take an action in the environment, this is unacceptable.\n",
    "\n",
    "Because the action space is continuous, the function Q* (s,a) is presumed to be differentiable with respect to the action argument. This allows us to set up an efficient, gradient-based learning rule for a policy u(s) which exploits that fact. Then, instead of running an expensive optimization subroutine each time we wish to compute max_a Q(s,a), we can approximate it with max_a Q(s,a) Q(s,u(s)).\n",
    "\n",
    "Credits to \"OpenAI - Spinning Up\"\n",
    "\n",
    "#### Quick Facts\n",
    "\n",
    "- DDPG is an off-policy algorithm.\n",
    "- DDPG can only be used for environments with continuous action spaces.\n",
    "- DDPG can be thought of as being deep Q-learning for continuous action spaces.\n",
    "\n",
    "#### Pseudocode\n",
    "\n",
    "![DDPG Pseudocode](https://spinningup.openai.com/en/latest/_images/math/66446594f760581068c5684f053e75f3de9b1404.svg)"
   ]
  },
  {
   "cell_type": "code",
   "execution_count": 8,
   "metadata": {},
   "outputs": [],
   "source": [
    "def ddpg(n_episodes=1000, max_timestep=1000,\n",
    "         actor_ckpt_path='actor_checkpoint.pth', critic_ckpt_path='critic_checkpoint.pth'):\n",
    "    \"\"\"Deep Deterministic Policy Gradient (DDPG)\n",
    "\n",
    "    Params\n",
    "    ======\n",
    "        n_episodes (int)       : maximum number of training episodes\n",
    "        max_timestep (int)     : maximum number of timesteps per episode\n",
    "        actor_ckpt_path (str)  : directory to store actor network weights\n",
    "        critic_ckpt_path (str) : directory to store critic network weights\n",
    "\n",
    "    \"\"\"\n",
    "    mean_scores = []                     # initialize list for the mean scores from each episode\n",
    "    min_scores = []                      # initialize list for the lowest scores from each episode\n",
    "    max_scores = []                      # initialize list for the highest scores from each episode\n",
    "    moving_avgs = []                     # initialize list for the moving averages of the episodes\n",
    "    scores_window = deque(maxlen=100)    # initialize a container for the mean scores of the last 100 episodes\n",
    "    best_score = -np.inf\n",
    "    \n",
    "    for i_episode in range(1, n_episodes+1):\n",
    "        env_info = env.reset(train_mode=True)[brain_name]   # reset the environment \n",
    "        states = env_info.vector_observations               # get the current state (for each agent)  \n",
    "        scores = np.zeros(num_agents)                       # initialize the score (for each agent)\n",
    "        agent.reset()\n",
    "        for timestep in range(max_timestep):\n",
    "            actions = agent.act(states)                     # select an action (for each agent, add_noise=True)\n",
    "            env_info = env.step(actions)[brain_name]        # send actions to environment\n",
    "            next_states = env_info.vector_observations      # get next state (for each agent)\n",
    "            rewards = env_info.rewards                      # get reward (for each agent)\n",
    "            dones = env_info.local_done                     # see if episode finished\n",
    "            # save experience to replay buffer and perform learning step at defined interval\n",
    "            for state, action, reward, next_state, done in zip(states, actions, rewards, next_states, dones):\n",
    "                agent.step(state, action, reward, next_state, done, timestep)\n",
    "            scores += rewards                               # update the score (for each agent)\n",
    "            states = next_states                            # roll over states to next time step\n",
    "            if np.any(dones):                               # exit loop if episode finished\n",
    "                break\n",
    "\n",
    "        mean_scores.append(np.mean(scores))                 # save mean score for the episode\n",
    "        min_scores.append(np.min(scores))                   # save lowest score\n",
    "        max_scores.append(np.max(scores))                   # save highest score\n",
    "        scores_window.append(mean_scores[-1])               # save mean score to the 100 value window\n",
    "        moving_avgs.append(np.mean(scores_window))          # save moving average\n",
    "                \n",
    "        print('\\rEpisode {} : Average score - {:.2f} | Moving Average - {:.2f} | Min score - {:.2f} | Max score - {:.2f}'\n",
    "              .format(i_episode, mean_scores[-1], moving_avgs[-1], min_scores[-1], max_scores[-1]))\n",
    "                  \n",
    "        if moving_avgs[-1] >= 30.0 and i_episode >= 100:\n",
    "            print('\\nEnvironment solved in {} episodes! Moving Average = {:.2f} over last 100 episodes'\n",
    "                  .format(i_episode-100, moving_avgs[-1]))            \n",
    "            torch.save(agent.actor_local.state_dict(), actor_ckpt_path)\n",
    "            torch.save(agent.critic_local.state_dict(), critic_ckpt_path)  \n",
    "            break\n",
    "        \n",
    "        if mean_scores[-1] > best_score:\n",
    "            torch.save(agent.actor_local.state_dict(), actor_ckpt_path)\n",
    "            torch.save(agent.critic_local.state_dict(), critic_ckpt_path)\n",
    "            \n",
    "        if i_episode == n_episodes:\n",
    "            print('\\nMaximum number {} of episodes reached! Moving Average = {:.2f} over the last 100 episodes'\n",
    "                  .format(i_episode, moving_avgs[-1]))\n",
    "            \n",
    "    return mean_scores, moving_avgs"
   ]
  },
  {
   "cell_type": "code",
   "execution_count": 9,
   "metadata": {
    "scrolled": false
   },
   "outputs": [
    {
     "name": "stdout",
     "output_type": "stream",
     "text": [
      "Episode 1 : Average score - 1.57 | Moving Average - 1.57 | Min score - 0.31 | Max score - 4.40\n",
      "Episode 2 : Average score - 3.66 | Moving Average - 2.62 | Min score - 2.05 | Max score - 4.79\n",
      "Episode 3 : Average score - 4.08 | Moving Average - 3.11 | Min score - 2.22 | Max score - 7.28\n",
      "Episode 4 : Average score - 5.85 | Moving Average - 3.79 | Min score - 3.94 | Max score - 7.76\n",
      "Episode 5 : Average score - 6.80 | Moving Average - 4.39 | Min score - 3.60 | Max score - 9.89\n",
      "Episode 6 : Average score - 7.62 | Moving Average - 4.93 | Min score - 4.70 | Max score - 12.00\n",
      "Episode 7 : Average score - 8.01 | Moving Average - 5.37 | Min score - 5.81 | Max score - 12.90\n",
      "Episode 8 : Average score - 11.00 | Moving Average - 6.07 | Min score - 7.20 | Max score - 15.75\n",
      "Episode 9 : Average score - 15.25 | Moving Average - 7.09 | Min score - 11.18 | Max score - 20.53\n",
      "Episode 10 : Average score - 17.71 | Moving Average - 8.16 | Min score - 12.05 | Max score - 22.97\n",
      "Episode 11 : Average score - 20.20 | Moving Average - 9.25 | Min score - 12.65 | Max score - 35.33\n",
      "Episode 12 : Average score - 23.79 | Moving Average - 10.46 | Min score - 14.25 | Max score - 35.62\n",
      "Episode 13 : Average score - 24.50 | Moving Average - 11.54 | Min score - 17.48 | Max score - 29.01\n",
      "Episode 14 : Average score - 27.08 | Moving Average - 12.65 | Min score - 20.51 | Max score - 31.27\n",
      "Episode 15 : Average score - 26.73 | Moving Average - 13.59 | Min score - 17.48 | Max score - 33.64\n",
      "Episode 16 : Average score - 28.21 | Moving Average - 14.50 | Min score - 22.24 | Max score - 34.48\n",
      "Episode 17 : Average score - 29.99 | Moving Average - 15.41 | Min score - 19.30 | Max score - 34.96\n",
      "Episode 18 : Average score - 32.16 | Moving Average - 16.35 | Min score - 20.26 | Max score - 37.38\n",
      "Episode 19 : Average score - 33.87 | Moving Average - 17.27 | Min score - 26.70 | Max score - 39.31\n",
      "Episode 20 : Average score - 35.19 | Moving Average - 18.16 | Min score - 27.05 | Max score - 38.64\n",
      "Episode 21 : Average score - 35.27 | Moving Average - 18.98 | Min score - 30.38 | Max score - 39.19\n",
      "Episode 22 : Average score - 34.37 | Moving Average - 19.68 | Min score - 26.10 | Max score - 39.44\n",
      "Episode 23 : Average score - 36.76 | Moving Average - 20.42 | Min score - 29.94 | Max score - 39.35\n",
      "Episode 24 : Average score - 37.43 | Moving Average - 21.13 | Min score - 33.77 | Max score - 39.45\n",
      "Episode 25 : Average score - 37.43 | Moving Average - 21.78 | Min score - 31.39 | Max score - 39.30\n",
      "Episode 26 : Average score - 37.32 | Moving Average - 22.38 | Min score - 32.29 | Max score - 39.36\n",
      "Episode 27 : Average score - 36.40 | Moving Average - 22.90 | Min score - 29.32 | Max score - 39.23\n",
      "Episode 28 : Average score - 37.13 | Moving Average - 23.41 | Min score - 31.71 | Max score - 39.59\n",
      "Episode 29 : Average score - 37.46 | Moving Average - 23.89 | Min score - 34.10 | Max score - 39.41\n",
      "Episode 30 : Average score - 38.16 | Moving Average - 24.37 | Min score - 34.69 | Max score - 39.55\n",
      "Episode 31 : Average score - 37.04 | Moving Average - 24.78 | Min score - 33.52 | Max score - 39.53\n",
      "Episode 32 : Average score - 36.56 | Moving Average - 25.14 | Min score - 29.68 | Max score - 39.08\n",
      "Episode 33 : Average score - 36.78 | Moving Average - 25.50 | Min score - 32.44 | Max score - 39.48\n",
      "Episode 34 : Average score - 37.57 | Moving Average - 25.85 | Min score - 31.58 | Max score - 39.56\n",
      "Episode 35 : Average score - 38.10 | Moving Average - 26.20 | Min score - 34.40 | Max score - 39.61\n",
      "Episode 36 : Average score - 37.84 | Moving Average - 26.52 | Min score - 31.29 | Max score - 39.59\n",
      "Episode 37 : Average score - 36.71 | Moving Average - 26.80 | Min score - 31.12 | Max score - 39.41\n",
      "Episode 38 : Average score - 37.42 | Moving Average - 27.08 | Min score - 33.23 | Max score - 39.59\n",
      "Episode 39 : Average score - 38.39 | Moving Average - 27.37 | Min score - 36.26 | Max score - 39.55\n",
      "Episode 40 : Average score - 38.91 | Moving Average - 27.66 | Min score - 37.56 | Max score - 39.55\n",
      "Episode 41 : Average score - 34.41 | Moving Average - 27.82 | Min score - 24.79 | Max score - 39.48\n",
      "Episode 42 : Average score - 37.47 | Moving Average - 28.05 | Min score - 27.16 | Max score - 39.55\n",
      "Episode 43 : Average score - 37.30 | Moving Average - 28.27 | Min score - 24.17 | Max score - 39.53\n",
      "Episode 44 : Average score - 37.56 | Moving Average - 28.48 | Min score - 15.31 | Max score - 39.51\n",
      "Episode 45 : Average score - 36.93 | Moving Average - 28.67 | Min score - 25.85 | Max score - 39.51\n",
      "Episode 46 : Average score - 35.66 | Moving Average - 28.82 | Min score - 23.03 | Max score - 39.54\n",
      "Episode 47 : Average score - 36.84 | Moving Average - 28.99 | Min score - 31.70 | Max score - 39.49\n",
      "Episode 48 : Average score - 35.69 | Moving Average - 29.13 | Min score - 22.43 | Max score - 39.61\n",
      "Episode 49 : Average score - 33.92 | Moving Average - 29.23 | Min score - 23.42 | Max score - 39.47\n",
      "Episode 50 : Average score - 35.54 | Moving Average - 29.35 | Min score - 24.91 | Max score - 39.24\n",
      "Episode 51 : Average score - 37.19 | Moving Average - 29.51 | Min score - 24.71 | Max score - 39.59\n",
      "Episode 52 : Average score - 38.08 | Moving Average - 29.67 | Min score - 33.14 | Max score - 39.61\n",
      "Episode 53 : Average score - 38.99 | Moving Average - 29.85 | Min score - 35.17 | Max score - 39.64\n",
      "Episode 54 : Average score - 38.56 | Moving Average - 30.01 | Min score - 37.04 | Max score - 39.58\n",
      "Episode 55 : Average score - 38.49 | Moving Average - 30.16 | Min score - 36.06 | Max score - 39.57\n",
      "Episode 56 : Average score - 38.20 | Moving Average - 30.31 | Min score - 35.19 | Max score - 39.59\n",
      "Episode 57 : Average score - 38.51 | Moving Average - 30.45 | Min score - 35.60 | Max score - 39.61\n",
      "Episode 58 : Average score - 38.56 | Moving Average - 30.59 | Min score - 36.19 | Max score - 39.62\n",
      "Episode 59 : Average score - 38.70 | Moving Average - 30.73 | Min score - 35.69 | Max score - 39.61\n",
      "Episode 60 : Average score - 37.77 | Moving Average - 30.84 | Min score - 34.56 | Max score - 39.41\n",
      "Episode 61 : Average score - 37.77 | Moving Average - 30.96 | Min score - 27.34 | Max score - 39.67\n",
      "Episode 62 : Average score - 38.70 | Moving Average - 31.08 | Min score - 36.30 | Max score - 39.56\n",
      "Episode 63 : Average score - 38.19 | Moving Average - 31.20 | Min score - 35.79 | Max score - 39.60\n",
      "Episode 64 : Average score - 37.95 | Moving Average - 31.30 | Min score - 28.53 | Max score - 39.54\n",
      "Episode 65 : Average score - 38.00 | Moving Average - 31.40 | Min score - 34.58 | Max score - 39.27\n",
      "Episode 66 : Average score - 37.36 | Moving Average - 31.49 | Min score - 28.46 | Max score - 39.60\n",
      "Episode 67 : Average score - 38.31 | Moving Average - 31.60 | Min score - 35.66 | Max score - 39.63\n",
      "Episode 68 : Average score - 37.17 | Moving Average - 31.68 | Min score - 33.42 | Max score - 39.66\n",
      "Episode 69 : Average score - 37.35 | Moving Average - 31.76 | Min score - 34.16 | Max score - 39.34\n",
      "Episode 70 : Average score - 38.31 | Moving Average - 31.85 | Min score - 36.06 | Max score - 39.59\n",
      "Episode 71 : Average score - 38.04 | Moving Average - 31.94 | Min score - 32.63 | Max score - 39.67\n",
      "Episode 72 : Average score - 37.72 | Moving Average - 32.02 | Min score - 32.75 | Max score - 39.26\n",
      "Episode 73 : Average score - 38.19 | Moving Average - 32.11 | Min score - 36.01 | Max score - 39.42\n",
      "Episode 74 : Average score - 38.18 | Moving Average - 32.19 | Min score - 34.21 | Max score - 39.37\n",
      "Episode 75 : Average score - 37.39 | Moving Average - 32.26 | Min score - 34.39 | Max score - 39.63\n",
      "Episode 76 : Average score - 38.08 | Moving Average - 32.33 | Min score - 32.28 | Max score - 39.61\n",
      "Episode 77 : Average score - 37.85 | Moving Average - 32.41 | Min score - 32.23 | Max score - 39.55\n",
      "Episode 78 : Average score - 37.96 | Moving Average - 32.48 | Min score - 34.82 | Max score - 39.67\n",
      "Episode 79 : Average score - 38.40 | Moving Average - 32.55 | Min score - 33.48 | Max score - 39.58\n",
      "Episode 80 : Average score - 37.18 | Moving Average - 32.61 | Min score - 31.86 | Max score - 39.58\n",
      "Episode 81 : Average score - 37.98 | Moving Average - 32.68 | Min score - 34.26 | Max score - 39.65\n",
      "Episode 82 : Average score - 38.34 | Moving Average - 32.75 | Min score - 34.34 | Max score - 39.63\n",
      "Episode 83 : Average score - 37.74 | Moving Average - 32.81 | Min score - 35.44 | Max score - 39.24\n",
      "Episode 84 : Average score - 38.32 | Moving Average - 32.87 | Min score - 34.41 | Max score - 39.64\n",
      "Episode 85 : Average score - 38.27 | Moving Average - 32.93 | Min score - 36.02 | Max score - 39.52\n",
      "Episode 86 : Average score - 37.99 | Moving Average - 32.99 | Min score - 35.16 | Max score - 39.58\n",
      "Episode 87 : Average score - 37.48 | Moving Average - 33.04 | Min score - 31.51 | Max score - 39.60\n",
      "Episode 88 : Average score - 37.32 | Moving Average - 33.09 | Min score - 35.19 | Max score - 39.61\n",
      "Episode 89 : Average score - 37.91 | Moving Average - 33.15 | Min score - 34.60 | Max score - 39.46\n",
      "Episode 90 : Average score - 37.13 | Moving Average - 33.19 | Min score - 33.04 | Max score - 39.54\n",
      "Episode 91 : Average score - 38.25 | Moving Average - 33.25 | Min score - 35.59 | Max score - 39.53\n",
      "Episode 92 : Average score - 38.12 | Moving Average - 33.30 | Min score - 35.73 | Max score - 39.63\n",
      "Episode 93 : Average score - 36.61 | Moving Average - 33.34 | Min score - 29.25 | Max score - 39.67\n",
      "Episode 94 : Average score - 36.87 | Moving Average - 33.37 | Min score - 33.32 | Max score - 39.62\n",
      "Episode 95 : Average score - 36.25 | Moving Average - 33.40 | Min score - 31.73 | Max score - 39.39\n",
      "Episode 96 : Average score - 33.66 | Moving Average - 33.41 | Min score - 28.09 | Max score - 37.83\n",
      "Episode 97 : Average score - 29.60 | Moving Average - 33.37 | Min score - 23.02 | Max score - 36.18\n",
      "Episode 98 : Average score - 31.54 | Moving Average - 33.35 | Min score - 23.72 | Max score - 38.39\n",
      "Episode 99 : Average score - 30.13 | Moving Average - 33.32 | Min score - 17.59 | Max score - 38.49\n",
      "Episode 100 : Average score - 30.45 | Moving Average - 33.29 | Min score - 20.40 | Max score - 34.85\n",
      "\n",
      "Environment solved in 0 episodes! Moving Average = 33.29 over last 100 episodes\n"
     ]
    }
   ],
   "source": [
    "from workspace_utils import active_session\n",
    "\n",
    "with active_session():  # used to keep Udacity's workspace awake during training\n",
    "    # train the agent\n",
    "    mean_scores, moving_avgs = ddpg()"
   ]
  },
  {
   "cell_type": "code",
   "execution_count": 11,
   "metadata": {},
   "outputs": [
    {
     "data": {
      "image/png": "[encoded data removed]",
      "text/plain": [
       "<matplotlib.figure.Figure at 0x7f3b9b17ea58>"
      ]
     },
     "metadata": {
      "needs_background": "light"
     },
     "output_type": "display_data"
    }
   ],
   "source": [
    "# plot the scores\n",
    "fig = plt.figure()\n",
    "ax = fig.add_subplot()\n",
    "plt.plot(np.arange(len(mean_scores)), mean_scores, label='Average Reward')\n",
    "plt.plot(np.arange(len(mean_scores)), moving_avgs, color='g', label='Moving Average')\n",
    "plt.axhline(30, color=\"r\", linestyle='dashed', label='Target Score')\n",
    "plt.ylabel('Score')\n",
    "plt.xlabel('Episode #')\n",
    "plt.legend()\n",
    "plt.show()"
   ]
  },
  {
   "cell_type": "markdown",
   "metadata": {},
   "source": [
    "When finished, you can close the environment."
   ]
  },
  {
   "cell_type": "code",
   "execution_count": 12,
   "metadata": {},
   "outputs": [],
   "source": [
    "env.close()"
   ]
  },
  {
   "cell_type": "markdown",
   "metadata": {},
   "source": [
    "## 5. Possible improvements\n",
    "\n",
    "While DDPG can achieve great performance sometimes, it is frequently brittle with respect to hyperparameters and other kinds of tuning. Implementing other algorithms like Proximal Policy Optimization(PPO) and comparing the obtained results would give us a better picture of what algorithm is best suited for this particular environment.\n",
    "\n",
    "Another thing that would definitely improve our model performance is hyperparameter tuning. We could optimize our model architecture(number of layers, hidden units, etc) and hyperperameters like:\n",
    "\n",
    "- BUFFER_SIZE - replay buffer size\n",
    "- BATCH_SIZE - minibatch size\n",
    "- GAMMA - discount factor\n",
    "- TAU - for soft update of target parameters\n",
    "- LR_ACTOR - learning rate of the actor \n",
    "- LR_CRITIC - learning rate of the critic\n",
    "- WEIGHT_DECAY - L2 weight decay\n",
    "- UPDATE_EVERY - how often to update the network\n",
    "- UPDATE_NUM - number of update passes\n",
    "- EPSILON - starting value of epsilon\n",
    "- EPSILON_DECAY - factor for decreasing epsilon"
   ]
  }
 ],
 "metadata": {
  "kernelspec": {
   "display_name": "Python 3",
   "language": "python",
   "name": "python3"
  },
  "language_info": {
   "codemirror_mode": {
    "name": "ipython",
    "version": 3
   },
   "file_extension": ".py",
   "mimetype": "text/x-python",
   "name": "python",
   "nbconvert_exporter": "python",
   "pygments_lexer": "ipython3",
   "version": "3.6.3"
  }
 },
 "nbformat": 4,
 "nbformat_minor": 2
}
