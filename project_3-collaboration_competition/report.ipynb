{
 "cells": [
  {
   "cell_type": "markdown",
   "metadata": {},
   "source": [
    "# Collaboration and Competition\n",
    "\n",
    "---\n",
    "\n",
    "### 1. Start the Environment\n",
    "\n",
    "Run the next code cell to install a few packages.  This line will take a few minutes to run!"
   ]
  },
  {
   "cell_type": "code",
   "execution_count": 1,
   "metadata": {},
   "outputs": [
    {
     "name": "stdout",
     "output_type": "stream",
     "text": [
      "\u001b[31mtensorflow 1.7.1 has requirement numpy>=1.13.3, but you'll have numpy 1.12.1 which is incompatible.\u001b[0m\r\n",
      "\u001b[31mipython 6.5.0 has requirement prompt-toolkit<2.0.0,>=1.0.15, but you'll have prompt-toolkit 2.0.10 which is incompatible.\u001b[0m\r\n"
     ]
    }
   ],
   "source": [
    "!pip -q install ./python"
   ]
  },
  {
   "cell_type": "markdown",
   "metadata": {},
   "source": [
    "The environment can be accessed at the file path provided below. "
   ]
  },
  {
   "cell_type": "code",
   "execution_count": 2,
   "metadata": {},
   "outputs": [
    {
     "name": "stderr",
     "output_type": "stream",
     "text": [
      "INFO:unityagents:\n",
      "'Academy' started successfully!\n",
      "Unity Academy name: Academy\n",
      "        Number of Brains: 1\n",
      "        Number of External Brains : 1\n",
      "        Lesson number : 0\n",
      "        Reset Parameters :\n",
      "\t\t\n",
      "Unity brain name: TennisBrain\n",
      "        Number of Visual Observations (per agent): 0\n",
      "        Vector Observation space type: continuous\n",
      "        Vector Observation space size (per agent): 8\n",
      "        Number of stacked Vector Observation: 3\n",
      "        Vector Action space type: continuous\n",
      "        Vector Action space size (per agent): 2\n",
      "        Vector Action descriptions: , \n"
     ]
    }
   ],
   "source": [
    "from unityagents import UnityEnvironment\n",
    "import numpy as np\n",
    "\n",
    "env = UnityEnvironment(file_name=\"/data/Tennis_Linux_NoVis/Tennis\")"
   ]
  },
  {
   "cell_type": "markdown",
   "metadata": {},
   "source": [
    "Environments contain **_brains_** which are responsible for deciding the actions of their associated agents. Here we check for the first brain available, and set it as the default brain we will be controlling from Python."
   ]
  },
  {
   "cell_type": "code",
   "execution_count": 3,
   "metadata": {},
   "outputs": [],
   "source": [
    "# get the default brain\n",
    "brain_name = env.brain_names[0]\n",
    "brain = env.brains[brain_name]"
   ]
  },
  {
   "cell_type": "markdown",
   "metadata": {},
   "source": [
    "### 2. Examine the State and Action Spaces\n",
    "\n",
    "Run the code cell below to print some information about the environment."
   ]
  },
  {
   "cell_type": "code",
   "execution_count": 4,
   "metadata": {},
   "outputs": [
    {
     "name": "stdout",
     "output_type": "stream",
     "text": [
      "Number of agents: 2\n",
      "Size of each action: 2\n",
      "There are 2 agents. Each observes a state with length: 24\n",
      "The state for the first agent looks like: [ 0.          0.          0.          0.          0.          0.          0.\n",
      "  0.          0.          0.          0.          0.          0.          0.\n",
      "  0.          0.         -6.65278625 -1.5        -0.          0.\n",
      "  6.83172083  6.         -0.          0.        ]\n"
     ]
    }
   ],
   "source": [
    "# reset the environment\n",
    "env_info = env.reset(train_mode=True)[brain_name]\n",
    "\n",
    "# number of agents \n",
    "num_agents = len(env_info.agents)\n",
    "print('Number of agents:', num_agents)\n",
    "\n",
    "# size of each action\n",
    "action_size = brain.vector_action_space_size\n",
    "print('Size of each action:', action_size)\n",
    "\n",
    "# examine the state space \n",
    "states = env_info.vector_observations\n",
    "state_size = states.shape[1]\n",
    "print('There are {} agents. Each observes a state with length: {}'.format(states.shape[0], state_size))\n",
    "print('The state for the first agent looks like:', states[0])"
   ]
  },
  {
   "cell_type": "markdown",
   "metadata": {},
   "source": [
    "![Tennis](https://github.com/Unity-Technologies/ml-agents/blob/master/docs/images/tennis.png?raw=true)\n",
    "\n",
    "* Set-up: Two-player game where agents control rackets to bounce ball over a\n",
    "  net.\n",
    "* Goal: The agents must bounce ball between one another while not dropping or\n",
    "  sending ball out of bounds.\n",
    "* Agents: The environment contains two agent linked to a single Brain.\n",
    "* Agent Reward Function (independent):\n",
    "  * +0.1 To agent when hitting ball over net.\n",
    "  * -0.01 To agent who let ball hit their ground, or hit ball out of bounds.\n",
    "* Brains: One Brain with the following observation/action space.\n",
    "  * Vector Observation space: 8 variables corresponding to position and velocity\n",
    "    of ball and racket.\n",
    "  * Vector Action space: (Continuous) Size of 2, corresponding to movement\n",
    "    toward net or away from net, and jumping.\n",
    "* Reset Parameters: Three\n",
    "    * angle: Angle of the racket from the vertical (Y) axis.\n",
    "      * Default: 55\n",
    "      * Recommended Minimum: 35 \n",
    "      * Recommended Maximum: 65\n",
    "    * gravity: Magnitude of gravity\n",
    "      * Default: 9.81\n",
    "      * Recommended Minimum: 6\n",
    "      * Recommended Maximum: 20\n",
    "    * scale: Specifies the scale of the ball in the 3 dimensions (equal across the three dimensions)\n",
    "      * Default: 1\n",
    "      * Recommended Minimum: 0.2\n",
    "      * Recommended Maximum: 5\n",
    "* Benchmark Mean Reward: 0.5"
   ]
  },
  {
   "cell_type": "markdown",
   "metadata": {},
   "source": [
    "### 3. Take Random Actions in the Environment\n",
    "\n",
    "In the next code cell, you will learn how to use the Python API to control the agent and receive feedback from the environment.\n",
    "\n",
    "**Note:** you should set `train_mode=True` to restart the environment."
   ]
  },
  {
   "cell_type": "code",
   "execution_count": 5,
   "metadata": {},
   "outputs": [
    {
     "name": "stdout",
     "output_type": "stream",
     "text": [
      "Total score (averaged over agents) this episode: 0.04500000085681677\n",
      "Total score (averaged over agents) this episode: -0.004999999888241291\n",
      "Total score (averaged over agents) this episode: -0.004999999888241291\n",
      "Total score (averaged over agents) this episode: -0.004999999888241291\n",
      "Total score (averaged over agents) this episode: -0.004999999888241291\n"
     ]
    }
   ],
   "source": [
    "for i in range(5):                                         # play game for 5 episodes\n",
    "    env_info = env.reset(train_mode=False)[brain_name]     # reset the environment    \n",
    "    states = env_info.vector_observations                  # get the current state (for each agent)\n",
    "    scores = np.zeros(num_agents)                          # initialize the score (for each agent)\n",
    "    while True:\n",
    "        actions = np.random.randn(num_agents, action_size) # select an action (for each agent)\n",
    "        actions = np.clip(actions, -1, 1)                  # all actions between -1 and 1\n",
    "        env_info = env.step(actions)[brain_name]           # send all actions to tne environment\n",
    "        next_states = env_info.vector_observations         # get next state (for each agent)\n",
    "        rewards = env_info.rewards                         # get reward (for each agent)\n",
    "        dones = env_info.local_done                        # see if episode finished\n",
    "        scores += env_info.rewards                         # update the score (for each agent)\n",
    "        states = next_states                               # roll over states to next time step\n",
    "        if np.any(dones):                                  # exit loop if episode finished\n",
    "            break\n",
    "    print('Total score (averaged over agents) this episode: {}'.format(np.mean(scores)))"
   ]
  },
  {
   "cell_type": "markdown",
   "metadata": {},
   "source": [
    "### 4. Train the agents\n",
    "\n",
    "The Multi-Agent Deep Deterministic Policy Gradient(MA-DDPG) can be trained by calling the ma_ddpg function defined bellow. Both agent and model classes are invoked from their respective helper files.\n",
    "\n",
    "**Note:** When training the environment, set `train_mode=True`, so that the line for resetting the environment looks like the following:\n",
    "```python\n",
    "env_info = env.reset(train_mode=True)[brain_name]\n",
    "```"
   ]
  },
  {
   "cell_type": "code",
   "execution_count": 6,
   "metadata": {},
   "outputs": [],
   "source": [
    "from ma_ddpg_agent import Agent\n",
    "import random\n",
    "import torch\n",
    "from collections import deque\n",
    "import matplotlib.pyplot as plt\n",
    "\n",
    "%matplotlib inline\n",
    "%load_ext autoreload\n",
    "%autoreload 2"
   ]
  },
  {
   "cell_type": "code",
   "execution_count": 7,
   "metadata": {},
   "outputs": [],
   "source": [
    "# initialize the agents\n",
    "agent1 = Agent(num_agents=1, state_size=state_size, action_size=action_size, random_seed=0)\n",
    "agent2 = Agent(num_agents=1, state_size=state_size, action_size=action_size, random_seed=0)"
   ]
  },
  {
   "cell_type": "markdown",
   "metadata": {},
   "source": [
    "### Multi-Agent Deep Deterministic Policy Gradient(MA-DDPG)\n",
    "\n",
    "This solution makes use of the approach presented in the paper \"Multi-Agent Actor-Critic for Mixed Cooperative-Competitive Environments\". We use Actor-Critic networks, same as Deep deterministic policy gradients post, but instead of training each agent to learn from its own action, we incorporate actions taken by all agents. Why use actions taken by all agents to train the single agent? Because, the environment state depends on the actions taken by all agents (i.e non-stationary from a single agent's perspective) so if we just train the agent using its own action, the policy network does not get enough information to come up with a good policy and most likely will take longer to find any good policy.\n",
    "\n",
    "![MA-DDPG Algorithm](https://miro.medium.com/max/747/1*sfPu94LSl9nSKkvGIx-msw.png)\n",
    "\n",
    "Going back to Multi-Agent Actor-Critic paper, the action from each agent is used only during the training phase to ease the training (centralised training). During execution, we just use the the policy network that returns the action for a given state. We do not use any information from other agents (i.e. decentralised execution).\n",
    "\n",
    "![Training Phase](https://www.katnoria.com/static/f2e485d3a562562c8ce6600e4c930ef6/02ec2/maddpg_overview.png)\n",
    "\n",
    "This approach builds upon Deep Deterministic Policy Gradients(DDPG) and Deep Q-Network(DQN), so it is best to review some of the core concepts such as experience replay, fixed target network and actior-critic there. We will go over them rather quickly here.\n",
    "\n",
    "- The Actor network takes state as input and returns the action to take in the environment\n",
    "- The Critic network, Deep Q-Network, takes the state and action of all agents as input and returns the action-value (Q-value)\n",
    "- The Critic and Actor networks are trained by sampling experiences from the replay buffer.\n",
    "- The action-value from Critic is used to teach the Actor to choose better actions.\n",
    "\n",
    "The key improvement over the DDPG approach is that we now share the actions taken by all agents to train each agent.\n",
    "\n",
    "#### Network Architecture\n",
    "\n",
    "![Network Achitecture](https://www.katnoria.com/static/91ab09cf86f38ac97ebd3279cf47c618/5593c/ma_ddpg_architecture.png)\n",
    "\n",
    "Credits to Katnoria - \"Continuos Control With Deep Reinforcement Learning\"\n",
    "\n",
    "#### Hyperparemeters\n",
    "\n",
    "I tried several hyperparameters in order to solve the environment and the following worked the best for me.\n",
    "\n",
    "    - BUFFER_SIZE = int(1e6)      replay buffer size\n",
    "    - BATCH_SIZE = 128            minibatch size\n",
    "    - GAMMA = 0.99                discount factor\n",
    "    - TAU = 8e-2                  for soft update of target parameters\n",
    "    - LR_ACTOR = 1e-3             learning rate of the actor \n",
    "    - LR_CRITIC = 1e-3            learning rate of the critic\n",
    "    - WEIGHT_DECAY = 0            L2 weight decay\n",
    "    - UPDATE_EVERY = 1            how often to update the network\n",
    "    - UPDATE_NUM = 2              number of update passes\n",
    "    - EPSILON_START = 5.0         starting value of epsilon(noise decay process)\n",
    "    - EPSILON_END = 300           episode number to end the noise decay process\n",
    "    - EPSILON_THRESHOLD = 0       threshold value for epsilon"
   ]
  },
  {
   "cell_type": "code",
   "execution_count": 9,
   "metadata": {},
   "outputs": [],
   "source": [
    "def ma_ddpg(n_episodes=2000, max_timestep=1000, print_every=10, score_goal=0.5, limit_episodes=300,\n",
    "            agent1_actor_path='agent1_actor_checkpoint.pth', agent1_critic_path='agent1_critic_checkpoint.pth',\n",
    "            agent2_actor_path='agent2_actor_checkpoint.pth', agent2_critic_path='agent2_critic_checkpoint.pth'):\n",
    "    \"\"\"Multi-Agent Deep Deterministic Policy Gradient (MA-DDPG)\n",
    "\n",
    "    Params\n",
    "    ======\n",
    "        n_episodes (int)         : maximum number of training episodes\n",
    "        max_timestep (int)       : maximum number of timesteps per episode\n",
    "        print_every (int)        : print results every print_every number of episodes\n",
    "        score_goal (float)       : average reward over the last 100 episodes to solve environment\n",
    "        limit_episodes (int)     : stop training after limit_episodes without converging\n",
    "        agent1_actor_path (str)  : directory to store agent 1 actor network weights\n",
    "        agent1_critic_path (str) : directory to store agent 1 critic network weights\n",
    "        agent2_actor_path (str)  : directory to store agent 2 actor network weights\n",
    "        agent2_critic_path (str) : directory to store agent 2 critic network weights\n",
    "\n",
    "    \"\"\"\n",
    "    all_scores = []                      # initialize list for the mean scores from each episode\n",
    "    moving_avgs = []                     # initialize list for the moving averages of the episodes\n",
    "    scores_window = deque(maxlen=100)    # initialize a container for the mean scores of the last 100 episodes\n",
    "    best_score = -np.inf\n",
    "    best_episode = 0\n",
    "    solved = False\n",
    "    \n",
    "    for i_episode in range(1, n_episodes+1):\n",
    "        env_info = env.reset(train_mode=True)[brain_name]   # reset the environment\n",
    "        # get the current states and combine them\n",
    "        states = np.reshape(env_info.vector_observations, (1, state_size*num_agents))\n",
    "        scores = np.zeros(num_agents)                       # initialize the score (for each agent)\n",
    "        agent1.reset()\n",
    "        agent2.reset()\n",
    "        while True:\n",
    "            # get actions for each agent and combine them (add_noise=True)\n",
    "            actions = np.concatenate((agent1.act(states), agent2.act(states)), axis=0).flatten()\n",
    "            env_info = env.step(actions)[brain_name]        # send actions to environment\n",
    "            # get next state (for each agent)\n",
    "            next_states = np.reshape(env_info.vector_observations, (1, state_size*num_agents))\n",
    "            rewards = env_info.rewards                      # get reward (for each agent)\n",
    "            done = env_info.local_done                      # see if episode finished\n",
    "            # learning step for each agent\n",
    "            agent1.step(states, actions, rewards[0], next_states, done, 0)\n",
    "            agent2.step(states, actions, rewards[1], next_states, done, 1)\n",
    "            # save experience to replay buffer and perform learning step at defined interval\n",
    "            scores += np.max(rewards)                       # update the score (for each agent)\n",
    "            states = next_states                            # roll over states to next time step\n",
    "            if np.any(done):                                # exit loop if episode finished\n",
    "                break\n",
    "                \n",
    "        episode_best_score = np.max(scores)                 # select best score from the episode\n",
    "        scores_window.append(episode_best_score)            # save best score from the episode(100 best scores)\n",
    "        all_scores.append(episode_best_score)               # save best score from the episode\n",
    "        moving_avgs.append(np.mean(scores_window))          # save moving average\n",
    "        \n",
    "        # save best score                        \n",
    "        if episode_best_score > best_score:\n",
    "            best_score = episode_best_score\n",
    "            best_episode = i_episode\n",
    "            \n",
    "        # print results every print_every episodes\n",
    "        if i_episode % print_every == 0:\n",
    "            print('\\rEpisode {} : Moving Average - {:.2f} | Min score - {:.2f} | Max score - {:.2f}'\n",
    "                  .format(i_episode, moving_avgs[-1],\n",
    "                          np.min(all_scores[-print_every:]), np.max(all_scores[-print_every:])))\n",
    "        \n",
    "        # check if environment is solved and save best models\n",
    "        if moving_avgs[-1] >= score_goal and i_episode >= 100:\n",
    "            if not solved:\n",
    "                print('\\rEnvironment solved in {} : Moving Average - {:.2f} | Min score - {:.2f} | Max score - {:.2f}\\n'\n",
    "                      .format(i_episode-100, moving_avgs[-1],\n",
    "                              np.min(all_scores[-print_every:]), np.max(all_scores[-print_every:])))\n",
    "                solved = True\n",
    "                # save weights for the models when environment is solved\n",
    "                torch.save(agent1.actor_local.state_dict(), agent1_actor_path)\n",
    "                torch.save(agent1.critic_local.state_dict(), agent1_critic_path)\n",
    "                torch.save(agent2.actor_local.state_dict(), agent2_actor_path)\n",
    "                torch.save(agent2.critic_local.state_dict(), agent2_critic_path)\n",
    "            elif episode_best_score >= best_score:\n",
    "                print('\\rBest episode so far {} : Moving Average - {:.2f} | Best score - {:.2f}\\n'\n",
    "                      .format(i_episode, moving_avgs[-1], episode_best_score))\n",
    "                # save weights for the models if score improves\n",
    "                torch.save(agent1.actor_local.state_dict(), agent1_actor_path)\n",
    "                torch.save(agent1.critic_local.state_dict(), agent1_critic_path)\n",
    "                torch.save(agent2.actor_local.state_dict(), agent2_actor_path)\n",
    "                torch.save(agent2.critic_local.state_dict(), agent2_critic_path)\n",
    "            elif (i_episode-best_episode) >= limit_episodes:\n",
    "                # stop training if the model stops converging\n",
    "                print('##### TRAINING STOPPED #####\\nBest score not matched or exceeded for {} episodes'\n",
    "                      .format(limit_episodes))\n",
    "                break\n",
    "            else:\n",
    "                continue\n",
    "                \n",
    "    return all_scores, moving_avgs"
   ]
  },
  {
   "cell_type": "code",
   "execution_count": 10,
   "metadata": {
    "scrolled": false
   },
   "outputs": [
    {
     "name": "stdout",
     "output_type": "stream",
     "text": [
      "Episode 10 : Moving Average - 0.00 | Min score - 0.00 | Max score - 0.00\n",
      "Episode 20 : Moving Average - 0.02 | Min score - 0.00 | Max score - 0.10\n",
      "Episode 30 : Moving Average - 0.01 | Min score - 0.00 | Max score - 0.00\n",
      "Episode 40 : Moving Average - 0.02 | Min score - 0.00 | Max score - 0.10\n",
      "Episode 50 : Moving Average - 0.01 | Min score - 0.00 | Max score - 0.10\n",
      "Episode 60 : Moving Average - 0.01 | Min score - 0.00 | Max score - 0.00\n",
      "Episode 70 : Moving Average - 0.02 | Min score - 0.00 | Max score - 0.20\n",
      "Episode 80 : Moving Average - 0.02 | Min score - 0.00 | Max score - 0.10\n",
      "Episode 90 : Moving Average - 0.02 | Min score - 0.00 | Max score - 0.20\n",
      "Episode 100 : Moving Average - 0.02 | Min score - 0.00 | Max score - 0.20\n",
      "Episode 110 : Moving Average - 0.02 | Min score - 0.00 | Max score - 0.10\n",
      "Episode 120 : Moving Average - 0.03 | Min score - 0.00 | Max score - 0.20\n",
      "Episode 130 : Moving Average - 0.03 | Min score - 0.00 | Max score - 0.20\n",
      "Episode 140 : Moving Average - 0.03 | Min score - 0.00 | Max score - 0.40\n",
      "Episode 150 : Moving Average - 0.03 | Min score - 0.00 | Max score - 0.10\n",
      "Episode 160 : Moving Average - 0.04 | Min score - 0.00 | Max score - 0.20\n",
      "Episode 170 : Moving Average - 0.04 | Min score - 0.00 | Max score - 0.40\n",
      "Episode 180 : Moving Average - 0.05 | Min score - 0.00 | Max score - 0.30\n",
      "Episode 190 : Moving Average - 0.05 | Min score - 0.00 | Max score - 0.30\n",
      "Episode 200 : Moving Average - 0.05 | Min score - 0.00 | Max score - 0.20\n",
      "Episode 210 : Moving Average - 0.06 | Min score - 0.00 | Max score - 0.10\n",
      "Episode 220 : Moving Average - 0.06 | Min score - 0.00 | Max score - 0.20\n",
      "Episode 230 : Moving Average - 0.06 | Min score - 0.00 | Max score - 0.10\n",
      "Episode 240 : Moving Average - 0.07 | Min score - 0.00 | Max score - 0.40\n",
      "Episode 250 : Moving Average - 0.07 | Min score - 0.00 | Max score - 0.30\n",
      "Episode 260 : Moving Average - 0.08 | Min score - 0.00 | Max score - 0.30\n",
      "Episode 270 : Moving Average - 0.08 | Min score - 0.00 | Max score - 0.20\n",
      "Episode 280 : Moving Average - 0.08 | Min score - 0.00 | Max score - 0.30\n",
      "Episode 290 : Moving Average - 0.09 | Min score - 0.10 | Max score - 0.20\n",
      "Episode 300 : Moving Average - 0.09 | Min score - 0.00 | Max score - 0.20\n",
      "Episode 310 : Moving Average - 0.11 | Min score - 0.00 | Max score - 0.30\n",
      "Episode 320 : Moving Average - 0.11 | Min score - 0.10 | Max score - 0.30\n",
      "Episode 330 : Moving Average - 0.12 | Min score - 0.10 | Max score - 0.30\n",
      "Episode 340 : Moving Average - 0.12 | Min score - 0.10 | Max score - 0.20\n",
      "Episode 350 : Moving Average - 0.13 | Min score - 0.00 | Max score - 0.40\n",
      "Episode 360 : Moving Average - 0.14 | Min score - 0.00 | Max score - 0.70\n",
      "Episode 370 : Moving Average - 0.15 | Min score - 0.00 | Max score - 0.40\n",
      "Episode 380 : Moving Average - 0.16 | Min score - 0.00 | Max score - 0.50\n",
      "Episode 390 : Moving Average - 0.16 | Min score - 0.00 | Max score - 0.30\n",
      "Episode 400 : Moving Average - 0.17 | Min score - 0.10 | Max score - 0.30\n",
      "Episode 410 : Moving Average - 0.17 | Min score - 0.10 | Max score - 0.30\n",
      "Episode 420 : Moving Average - 0.18 | Min score - 0.10 | Max score - 0.50\n",
      "Episode 430 : Moving Average - 0.18 | Min score - 0.10 | Max score - 0.30\n",
      "Episode 440 : Moving Average - 0.18 | Min score - 0.10 | Max score - 0.30\n",
      "Episode 450 : Moving Average - 0.18 | Min score - 0.00 | Max score - 0.50\n",
      "Episode 460 : Moving Average - 0.17 | Min score - 0.00 | Max score - 0.20\n",
      "Episode 470 : Moving Average - 0.16 | Min score - 0.00 | Max score - 0.20\n",
      "Episode 480 : Moving Average - 0.15 | Min score - 0.00 | Max score - 0.30\n",
      "Episode 490 : Moving Average - 0.15 | Min score - 0.00 | Max score - 0.40\n",
      "Episode 500 : Moving Average - 0.15 | Min score - 0.10 | Max score - 0.40\n",
      "Episode 510 : Moving Average - 0.15 | Min score - 0.10 | Max score - 0.30\n",
      "Episode 520 : Moving Average - 0.14 | Min score - 0.09 | Max score - 0.20\n",
      "Episode 530 : Moving Average - 0.13 | Min score - 0.00 | Max score - 0.50\n",
      "Episode 540 : Moving Average - 0.14 | Min score - 0.00 | Max score - 0.60\n",
      "Episode 550 : Moving Average - 0.14 | Min score - 0.10 | Max score - 0.30\n",
      "Episode 560 : Moving Average - 0.16 | Min score - 0.00 | Max score - 0.50\n",
      "Episode 570 : Moving Average - 0.17 | Min score - 0.00 | Max score - 0.50\n",
      "Episode 580 : Moving Average - 0.19 | Min score - 0.10 | Max score - 0.40\n",
      "Episode 590 : Moving Average - 0.21 | Min score - 0.10 | Max score - 1.00\n",
      "Episode 600 : Moving Average - 0.21 | Min score - 0.00 | Max score - 0.30\n",
      "Episode 610 : Moving Average - 0.21 | Min score - 0.10 | Max score - 0.40\n",
      "Episode 620 : Moving Average - 0.22 | Min score - 0.10 | Max score - 0.60\n",
      "Episode 630 : Moving Average - 0.22 | Min score - 0.10 | Max score - 0.40\n",
      "Episode 640 : Moving Average - 0.22 | Min score - 0.00 | Max score - 0.50\n",
      "Episode 650 : Moving Average - 0.21 | Min score - 0.00 | Max score - 0.30\n",
      "Episode 660 : Moving Average - 0.20 | Min score - 0.00 | Max score - 0.50\n",
      "Episode 670 : Moving Average - 0.20 | Min score - 0.00 | Max score - 0.60\n",
      "Episode 680 : Moving Average - 0.19 | Min score - 0.00 | Max score - 0.40\n",
      "Episode 690 : Moving Average - 0.16 | Min score - 0.00 | Max score - 0.30\n",
      "Episode 700 : Moving Average - 0.17 | Min score - 0.00 | Max score - 1.10\n",
      "Episode 710 : Moving Average - 0.18 | Min score - 0.00 | Max score - 0.40\n",
      "Episode 720 : Moving Average - 0.17 | Min score - 0.00 | Max score - 0.40\n",
      "Episode 730 : Moving Average - 0.17 | Min score - 0.00 | Max score - 0.50\n",
      "Episode 740 : Moving Average - 0.17 | Min score - 0.00 | Max score - 0.30\n",
      "Episode 750 : Moving Average - 0.17 | Min score - 0.00 | Max score - 0.40\n",
      "Episode 760 : Moving Average - 0.18 | Min score - 0.00 | Max score - 1.00\n",
      "Episode 770 : Moving Average - 0.17 | Min score - 0.00 | Max score - 0.50\n",
      "Episode 780 : Moving Average - 0.16 | Min score - 0.00 | Max score - 0.20\n",
      "Episode 790 : Moving Average - 0.17 | Min score - 0.10 | Max score - 0.40\n",
      "Episode 800 : Moving Average - 0.16 | Min score - 0.00 | Max score - 0.30\n",
      "Episode 810 : Moving Average - 0.16 | Min score - 0.00 | Max score - 0.90\n",
      "Episode 820 : Moving Average - 0.17 | Min score - 0.10 | Max score - 0.50\n",
      "Episode 830 : Moving Average - 0.17 | Min score - 0.10 | Max score - 0.60\n",
      "Episode 840 : Moving Average - 0.19 | Min score - 0.00 | Max score - 1.00\n",
      "Episode 850 : Moving Average - 0.21 | Min score - 0.00 | Max score - 1.20\n",
      "Episode 860 : Moving Average - 0.22 | Min score - 0.10 | Max score - 0.90\n",
      "Episode 870 : Moving Average - 0.24 | Min score - 0.10 | Max score - 1.00\n",
      "Episode 880 : Moving Average - 0.26 | Min score - 0.10 | Max score - 0.59\n",
      "Episode 890 : Moving Average - 0.26 | Min score - 0.10 | Max score - 0.40\n",
      "Episode 900 : Moving Average - 0.26 | Min score - 0.10 | Max score - 0.30\n",
      "Episode 910 : Moving Average - 0.27 | Min score - 0.10 | Max score - 0.50\n",
      "Episode 920 : Moving Average - 0.30 | Min score - 0.10 | Max score - 1.40\n",
      "Episode 930 : Moving Average - 0.34 | Min score - 0.10 | Max score - 2.30\n",
      "Episode 940 : Moving Average - 0.32 | Min score - 0.10 | Max score - 0.30\n",
      "Episode 950 : Moving Average - 0.33 | Min score - 0.10 | Max score - 1.40\n",
      "Episode 960 : Moving Average - 0.36 | Min score - 0.10 | Max score - 3.80\n",
      "Episode 970 : Moving Average - 0.33 | Min score - 0.10 | Max score - 0.60\n",
      "Episode 980 : Moving Average - 0.36 | Min score - 0.10 | Max score - 1.30\n",
      "Episode 990 : Moving Average - 0.40 | Min score - 0.10 | Max score - 1.90\n",
      "Episode 1000 : Moving Average - 0.40 | Min score - 0.10 | Max score - 0.60\n",
      "Episode 1010 : Moving Average - 0.40 | Min score - 0.10 | Max score - 0.40\n",
      "Episode 1020 : Moving Average - 0.40 | Min score - 0.10 | Max score - 1.60\n",
      "Episode 1030 : Moving Average - 0.39 | Min score - 0.10 | Max score - 2.10\n",
      "Episode 1040 : Moving Average - 0.42 | Min score - 0.00 | Max score - 3.70\n",
      "Episode 1050 : Moving Average - 0.43 | Min score - 0.10 | Max score - 1.80\n",
      "Episode 1060 : Moving Average - 0.41 | Min score - 0.10 | Max score - 1.00\n",
      "Episode 1070 : Moving Average - 0.43 | Min score - 0.10 | Max score - 0.80\n",
      "Episode 1080 : Moving Average - 0.49 | Min score - 0.10 | Max score - 4.80\n",
      "Episode 1090 : Moving Average - 0.46 | Min score - 0.00 | Max score - 1.30\n",
      "Environment solved in 994 : Moving Average - 0.52 | Min score - 0.00 | Max score - 5.20\n",
      "\n",
      "Episode 1100 : Moving Average - 0.60 | Min score - 0.00 | Max score - 5.20\n",
      "Episode 1110 : Moving Average - 0.74 | Min score - 0.10 | Max score - 3.80\n",
      "Episode 1120 : Moving Average - 0.90 | Min score - 0.10 | Max score - 5.00\n",
      "Episode 1130 : Moving Average - 0.93 | Min score - 0.10 | Max score - 3.50\n",
      "Best episode so far 1137 : Moving Average - 0.99 | Best score - 5.20\n",
      "\n",
      "Episode 1140 : Moving Average - 1.02 | Min score - 0.00 | Max score - 5.20\n",
      "Episode 1150 : Moving Average - 1.06 | Min score - 0.10 | Max score - 3.80\n",
      "Episode 1160 : Moving Average - 1.16 | Min score - 0.10 | Max score - 4.20\n",
      "Episode 1170 : Moving Average - 1.27 | Min score - 0.10 | Max score - 5.10\n",
      "Episode 1180 : Moving Average - 1.24 | Min score - 0.00 | Max score - 3.90\n",
      "Episode 1190 : Moving Average - 1.28 | Min score - 0.10 | Max score - 1.50\n",
      "Episode 1200 : Moving Average - 1.24 | Min score - 0.10 | Max score - 4.20\n",
      "Best episode so far 1202 : Moving Average - 1.28 | Best score - 5.20\n",
      "\n",
      "Episode 1210 : Moving Average - 1.35 | Min score - 0.80 | Max score - 5.20\n",
      "Episode 1220 : Moving Average - 1.28 | Min score - 0.10 | Max score - 2.30\n",
      "Episode 1230 : Moving Average - 1.35 | Min score - 0.10 | Max score - 4.70\n",
      "Episode 1240 : Moving Average - 1.29 | Min score - 0.10 | Max score - 2.80\n",
      "Episode 1250 : Moving Average - 1.33 | Min score - 0.10 | Max score - 2.80\n",
      "Episode 1260 : Moving Average - 1.33 | Min score - 0.00 | Max score - 4.00\n",
      "Episode 1270 : Moving Average - 1.31 | Min score - 0.10 | Max score - 5.10\n",
      "Episode 1280 : Moving Average - 1.30 | Min score - 0.00 | Max score - 4.40\n",
      "Episode 1290 : Moving Average - 1.30 | Min score - 0.00 | Max score - 3.10\n",
      "Episode 1300 : Moving Average - 1.23 | Min score - 0.00 | Max score - 1.70\n",
      "Episode 1310 : Moving Average - 1.06 | Min score - 0.10 | Max score - 3.20\n",
      "Episode 1320 : Moving Average - 1.04 | Min score - 0.00 | Max score - 4.80\n",
      "Best episode so far 1328 : Moving Average - 1.00 | Best score - 5.20\n",
      "\n",
      "Episode 1330 : Moving Average - 1.02 | Min score - 0.20 | Max score - 5.20\n",
      "Episode 1340 : Moving Average - 1.08 | Min score - 0.20 | Max score - 3.40\n",
      "Episode 1350 : Moving Average - 1.10 | Min score - 0.10 | Max score - 5.10\n",
      "Best episode so far 1354 : Moving Average - 1.21 | Best score - 5.20\n",
      "\n",
      "Episode 1360 : Moving Average - 1.15 | Min score - 0.10 | Max score - 5.20\n",
      "Episode 1370 : Moving Average - 1.09 | Min score - 0.10 | Max score - 2.20\n",
      "Episode 1380 : Moving Average - 1.07 | Min score - 0.10 | Max score - 1.50\n",
      "Best episode so far 1384 : Moving Average - 1.11 | Best score - 5.20\n",
      "\n",
      "Episode 1390 : Moving Average - 1.09 | Min score - 0.00 | Max score - 5.20\n",
      "##### TRAINING STOPPED #####\n",
      "Best score not matched or exceeded for 300 episodes\n"
     ]
    }
   ],
   "source": [
    "from workspace_utils import active_session\n",
    "\n",
    "with active_session():  # used to keep Udacity's workspace awake during training\n",
    "    # train the agents\n",
    "    scores, moving_avgs = ma_ddpg()"
   ]
  },
  {
   "cell_type": "markdown",
   "metadata": {},
   "source": [
    "#### The environment is considered solved when the average reward over 100 episode is +0.5."
   ]
  },
  {
   "cell_type": "code",
   "execution_count": 13,
   "metadata": {},
   "outputs": [
    {
     "data": {
      "image/png": "[encoded data removed]",
      "text/plain": [
       "<matplotlib.figure.Figure at 0x7ff3d9419550>"
      ]
     },
     "metadata": {
      "needs_background": "light"
     },
     "output_type": "display_data"
    }
   ],
   "source": [
    "# plot the scores\n",
    "fig = plt.figure()\n",
    "ax = fig.add_subplot()\n",
    "plt.plot(np.arange(len(scores)), scores, label='Reward')\n",
    "plt.plot(np.arange(len(scores)), moving_avgs, color='y', label='Moving Average')\n",
    "plt.axhline(0.5, color=\"r\", linestyle='dashed', label='Target Score')\n",
    "plt.ylabel('Score')\n",
    "plt.xlabel('Episode #')\n",
    "plt.legend()\n",
    "plt.show()"
   ]
  },
  {
   "cell_type": "markdown",
   "metadata": {},
   "source": [
    "When finished, you can close the environment."
   ]
  },
  {
   "cell_type": "code",
   "execution_count": 14,
   "metadata": {},
   "outputs": [],
   "source": [
    "env.close()"
   ]
  }
 ],
 "metadata": {
  "kernelspec": {
   "display_name": "Python 3",
   "language": "python",
   "name": "python3"
  },
  "language_info": {
   "codemirror_mode": {
    "name": "ipython",
    "version": 3
   },
   "file_extension": ".py",
   "mimetype": "text/x-python",
   "name": "python",
   "nbconvert_exporter": "python",
   "pygments_lexer": "ipython3",
   "version": "3.6.3"
  }
 },
 "nbformat": 4,
 "nbformat_minor": 2
}
